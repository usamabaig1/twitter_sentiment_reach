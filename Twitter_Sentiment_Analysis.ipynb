{
  "nbformat": 4,
  "nbformat_minor": 0,
  "metadata": {
    "colab": {
      "name": "Twitter Sentiment Analysis.ipynb",
      "provenance": [],
      "collapsed_sections": [],
      "authorship_tag": "ABX9TyPIKAMRQvbUKTgdckJeZfkz",
      "include_colab_link": true
    },
    "kernelspec": {
      "name": "python3",
      "display_name": "Python 3"
    }
  },
  "cells": [
    {
      "cell_type": "markdown",
      "metadata": {
        "id": "view-in-github",
        "colab_type": "text"
      },
      "source": [
        "<a href=\"https://colab.research.google.com/github/usamabaig1/twitter_sentiment_reach/blob/main/Twitter_Sentiment_Analysis.ipynb\" target=\"_parent\"><img src=\"https://colab.research.google.com/assets/colab-badge.svg\" alt=\"Open In Colab\"/></a>"
      ]
    },
    {
      "cell_type": "code",
      "metadata": {
        "id": "Qz8Rb3tnyTFz"
      },
      "source": [
        "import numpy as np\n",
        "import matplotlib.pyplot as plt\n",
        "import pandas as pd\n",
        "\n",
        "np.random.seed(123)\n",
        "import re as re\n"
      ],
      "execution_count": 32,
      "outputs": []
    },
    {
      "cell_type": "code",
      "metadata": {
        "colab": {
          "base_uri": "https://localhost:8080/"
        },
        "id": "MN1cEE3T4vAf",
        "outputId": "e63e8467-2eb8-4665-adb2-8181cf2b6486"
      },
      "source": [
        "#installing tweet-preprocessor\n",
        "!pip install tweet-preprocessor"
      ],
      "execution_count": 15,
      "outputs": [
        {
          "output_type": "stream",
          "text": [
            "Collecting tweet-preprocessor\n",
            "  Downloading https://files.pythonhosted.org/packages/17/9d/71bd016a9edcef8860c607e531f30bd09b13103c7951ae73dd2bf174163c/tweet_preprocessor-0.6.0-py3-none-any.whl\n",
            "Installing collected packages: tweet-preprocessor\n",
            "Successfully installed tweet-preprocessor-0.6.0\n"
          ],
          "name": "stdout"
        }
      ]
    },
    {
      "cell_type": "code",
      "metadata": {
        "colab": {
          "base_uri": "https://localhost:8080/"
        },
        "id": "XadUsP5HzNWK",
        "outputId": "774b1c6c-28b9-45c3-9e3a-ae124e24c2c3"
      },
      "source": [
        "tweetsdf  = pd.read_csv('tweets.csv', encoding='latin-1')\n",
        "len(tweetsdf)"
      ],
      "execution_count": 85,
      "outputs": [
        {
          "output_type": "execute_result",
          "data": {
            "text/plain": [
              "9184"
            ]
          },
          "metadata": {
            "tags": []
          },
          "execution_count": 85
        }
      ]
    },
    {
      "cell_type": "markdown",
      "metadata": {
        "id": "EO9p3YyuHAtm"
      },
      "source": [
        "# Data Cleaning\n"
      ]
    },
    {
      "cell_type": "code",
      "metadata": {
        "id": "Wg2GAZHn396Y"
      },
      "source": [
        "tweetsdf['hashtag'] = tweetsdf['content'].apply(lambda x: re.findall(r'#(\\w+)', x))\n",
        "# print(hashtags[0:5])\n",
        "# len(hashtags)"
      ],
      "execution_count": 34,
      "outputs": []
    },
    {
      "cell_type": "code",
      "metadata": {
        "id": "lW-i4ofE4_I3"
      },
      "source": [
        "import preprocessor as p\n",
        "\n",
        "# removal of URLs, Mentions\n",
        "#forming a separate feature for cleaned tweets\n",
        "for i,v in enumerate(tweetsdf['content']):\n",
        "  tweetsdf.loc[i,'text'] = p.clean(v)"
      ],
      "execution_count": 67,
      "outputs": []
    },
    {
      "cell_type": "code",
      "metadata": {
        "id": "62Tdlbb9FtfK"
      },
      "source": [
        "#removing null values\n",
        "tweetsdf = tweetsdf[-(tweetsdf['text'] == \"b' '\")]"
      ],
      "execution_count": 87,
      "outputs": []
    },
    {
      "cell_type": "code",
      "metadata": {
        "id": "SbBIVVnZ-380"
      },
      "source": [
        "# tweetsdf[tweetsdf.duplicated(subset = [\"text\", 'username'])]"
      ],
      "execution_count": 39,
      "outputs": []
    },
    {
      "cell_type": "code",
      "metadata": {
        "id": "1OnQsXE3zZIJ",
        "colab": {
          "base_uri": "https://localhost:8080/"
        },
        "outputId": "35b38c8b-6cb9-4841-ddae-bf5ed4392ec1"
      },
      "source": [
        "#Duplicate tweets from same user are removed from the dataset to eliminate bias\n",
        "#Duplicate tweets from different users are left in the dataset\n",
        "tweetsdf.drop_duplicates(subset =[\"text\", 'username'], \n",
        "                     keep = False, inplace = True) \n",
        "len(tweetsdf)\n",
        "# tweetsdf.head()"
      ],
      "execution_count": 68,
      "outputs": [
        {
          "output_type": "execute_result",
          "data": {
            "text/plain": [
              "9371"
            ]
          },
          "metadata": {
            "tags": []
          },
          "execution_count": 68
        }
      ]
    },
    {
      "cell_type": "markdown",
      "metadata": {
        "id": "Lt_El63OAj-m"
      },
      "source": [
        "# Encryption\n"
      ]
    },
    {
      "cell_type": "code",
      "metadata": {
        "colab": {
          "base_uri": "https://localhost:8080/"
        },
        "id": "Yedfo3MhAosB",
        "outputId": "cfcf6aaa-a290-4ca8-df79-7371ae201c18"
      },
      "source": [
        "!pip install cryptography"
      ],
      "execution_count": 88,
      "outputs": [
        {
          "output_type": "stream",
          "text": [
            "Requirement already satisfied: cryptography in /usr/local/lib/python3.6/dist-packages (3.2.1)\n",
            "Requirement already satisfied: cffi!=1.11.3,>=1.8 in /usr/local/lib/python3.6/dist-packages (from cryptography) (1.14.3)\n",
            "Requirement already satisfied: six>=1.4.1 in /usr/local/lib/python3.6/dist-packages (from cryptography) (1.15.0)\n",
            "Requirement already satisfied: pycparser in /usr/local/lib/python3.6/dist-packages (from cffi!=1.11.3,>=1.8->cryptography) (2.20)\n"
          ],
          "name": "stdout"
        }
      ]
    },
    {
      "cell_type": "code",
      "metadata": {
        "id": "I2WKD3k4-jtP"
      },
      "source": [
        "from cryptography.fernet import Fernet\n",
        "\n",
        "def generate_key():\n",
        "    \"\"\"\n",
        "    Generates a key and save it into a file\n",
        "    \"\"\"\n",
        "    key = Fernet.generate_key()\n",
        "    with open(\"secret.key\", \"wb\") as key_file:\n",
        "        key_file.write(key)\n",
        "\n",
        "def load_key():\n",
        "    \"\"\"\n",
        "    Load the previously generated key\n",
        "    \"\"\"\n",
        "    return open(\"secret.key\", \"rb\").read()\n",
        "\n",
        "def encrypt_message(message):\n",
        "    \"\"\"\n",
        "    Encrypts a message\n",
        "    \"\"\"\n",
        "    key = load_key()\n",
        "    encoded_message = message.encode()\n",
        "    f = Fernet(key)\n",
        "    encrypted_message = f.encrypt(encoded_message)\n",
        "    return encrypted_message\n",
        "\n",
        "\n",
        "generate_key()\n",
        "tweetsdf['url'] = tweetsdf['url'].apply(lambda x: encrypt_message(x))\n",
        "tweetsdf['username'] = tweetsdf['username'].apply(lambda x: encrypt_message(x))\n",
        "tweetsdf['user'] = tweetsdf['user'].apply(lambda x: encrypt_message(x))\n",
        "tweetsdf['conversationId'] = tweetsdf['conversationId'].apply(lambda x: str(x))\n",
        "tweetsdf['conversationId'] = tweetsdf['conversationId'].apply(lambda x: encrypt_message(x))"
      ],
      "execution_count": 89,
      "outputs": []
    },
    {
      "cell_type": "code",
      "metadata": {
        "id": "PQi8eZqZBF-U"
      },
      "source": [
        "\n",
        "def load_key():\n",
        "    \"\"\"\n",
        "    Load the previously generated key\n",
        "    \"\"\"\n",
        "    return open(\"secret.key\", \"rb\").read()\n",
        "\n",
        "def decrypt_message(encrypted_message):\n",
        "    \"\"\"\n",
        "    Decrypts an encrypted message\n",
        "    \"\"\"\n",
        "    key = load_key()\n",
        "    f = Fernet(key)\n",
        "    decrypted_message = f.decrypt(encrypted_message)\n",
        "    return decrypted_message.decode()\n",
        "\n",
        "# decrypt_message(b'gAAAAABesCUIAcM8M-_Ik_-I1-JD0AzLZU8A8-AJITYCp9Mc33JaHMnYmRedtwC8LLcYk9zpTqYSaDaqFUgfz-tcHZ2TQjAgKKnIWJ2ae9GDoea6tw8XeJ4=')"
      ],
      "execution_count": 90,
      "outputs": []
    },
    {
      "cell_type": "markdown",
      "metadata": {
        "id": "-OaGWCQxHW0I"
      },
      "source": [
        "# Export Data"
      ]
    },
    {
      "cell_type": "code",
      "metadata": {
        "id": "bNEb-njlHOVd"
      },
      "source": [
        "tweetsdf.to_csv('Encrypted_Cleaned.csv')"
      ],
      "execution_count": 91,
      "outputs": []
    },
    {
      "cell_type": "code",
      "metadata": {
        "id": "0vLQgVtJHin7"
      },
      "source": [
        "tweetsdf[['date', 'text', 'replyCount', 'retweetCount ', 'likeCount']].to_csv('Filtered_data.csv')"
      ],
      "execution_count": 93,
      "outputs": []
    }
  ]
}